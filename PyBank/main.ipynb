{
 "cells": [
  {
   "cell_type": "code",
   "execution_count": 148,
   "id": "956d5f2e-fb76-4046-bbb0-3ac1840e2c1d",
   "metadata": {},
   "outputs": [],
   "source": [
    "import pandas as pd\n",
    "from pathlib import Path"
   ]
  },
  {
   "cell_type": "code",
   "execution_count": 149,
   "id": "be6b0615",
   "metadata": {},
   "outputs": [],
   "source": [
    "file_path = Path('budget_data.csv')\n",
    "data = pd.read_csv(file_path)"
   ]
  },
  {
   "cell_type": "code",
   "execution_count": 150,
   "id": "18c619a3",
   "metadata": {},
   "outputs": [],
   "source": [
    "total_months = data.iloc[:,0].count()"
   ]
  },
  {
   "cell_type": "code",
   "execution_count": 151,
   "id": "0168c038",
   "metadata": {},
   "outputs": [],
   "source": [
    "total_profit = data.iloc[:,1].sum()"
   ]
  },
  {
   "cell_type": "code",
   "execution_count": 152,
   "id": "ead17c3a",
   "metadata": {},
   "outputs": [],
   "source": [
    "mean_profit = data.iloc[:,1].mean()\n",
    "f_profit = round(mean_profit,2)"
   ]
  },
  {
   "cell_type": "code",
   "execution_count": 153,
   "id": "12a645e7",
   "metadata": {},
   "outputs": [],
   "source": [
    "max_profit = data.iloc[:,1].max()"
   ]
  },
  {
   "cell_type": "code",
   "execution_count": 154,
   "id": "a45b50d7",
   "metadata": {},
   "outputs": [],
   "source": [
    "min_profit = data.iloc[:,1].min()"
   ]
  },
  {
   "cell_type": "code",
   "execution_count": 155,
   "id": "533b2d30",
   "metadata": {},
   "outputs": [],
   "source": [
    "data.set_index(data['Profit/Losses'], inplace=True)\n",
    "max_row = data.loc[max_profit]\n",
    "max_date = max_row.iloc[0]\n",
    "min_row = data.loc[min_profit]\n",
    "min_date = min_row.iloc[0]"
   ]
  },
  {
   "cell_type": "code",
   "execution_count": 156,
   "id": "ef7c4076",
   "metadata": {},
   "outputs": [
    {
     "name": "stdout",
     "output_type": "stream",
     "text": [
      "Financial Analysis\n",
      "--------------------------------------\n",
      "Total Months: 86\n",
      "Total: $38382578\n",
      "Average Change: $446309.05 \n",
      "Greatest Increase in Profits: Feb-2012 ($1170593)\n",
      "Greatest Decrease in Profits: Sep-2013 ($-1196225)\n"
     ]
    }
   ],
   "source": [
    "print('Financial Analysis')\n",
    "print('--------------------------------------')\n",
    "print(f\"Total Months: {total_months}\")\n",
    "print(f\"Total: ${total_profit}\")\n",
    "print(f\"Average Change: ${f_profit} \")\n",
    "print(f\"Greatest Increase in Profits: {max_date} (${max_profit})\")\n",
    "print(f\"Greatest Decrease in Profits: {min_date} (${min_profit})\")"
   ]
  }
 ],
 "metadata": {
  "interpreter": {
   "hash": "1e7199e8540ebc99cdfd44754c18c3866c163314b4e74509769344f12b633a24"
  },
  "kernelspec": {
   "display_name": "Python 3.7.13 ('dev')",
   "language": "python",
   "name": "python3"
  },
  "language_info": {
   "codemirror_mode": {
    "name": "ipython",
    "version": 3
   },
   "file_extension": ".py",
   "mimetype": "text/x-python",
   "name": "python",
   "nbconvert_exporter": "python",
   "pygments_lexer": "ipython3",
   "version": "3.7.13"
  }
 },
 "nbformat": 4,
 "nbformat_minor": 5
}
